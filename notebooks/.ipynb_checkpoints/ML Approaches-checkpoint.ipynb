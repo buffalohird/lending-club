{
 "cells": [
  {
   "cell_type": "code",
   "execution_count": null,
   "metadata": {
    "collapsed": false
   },
   "outputs": [],
   "source": [
    "import pandas as pd\n",
    "import numpy as np\n",
    "import seaborn as sns\n",
    "import matplotlib.pyplot as plt\n",
    "import datetime\n",
    "import sklearn\n",
    "%matplotlib inline\n",
    "plt.style.use('ggplot')\n",
    "plt.rcParams['figure.figsize'] = (15.0, 7.0)\n",
    "sns.set(style=\"ticks\")"
   ]
  },
  {
   "cell_type": "code",
   "execution_count": 159,
   "metadata": {
    "collapsed": true
   },
   "outputs": [],
   "source": [
    "states = ['state_MT', 'state_NE', 'state_NV', 'state_NH', 'state_NJ', 'state_NM', 'state_NY', 'state_NC', 'state_ND', \n",
    "      'state_OH', 'state_OK', 'state_OR', 'state_PA', 'state_RI', 'state_SC', 'state_SD', 'state_TN', 'state_TX', \n",
    "      'state_UT', 'state_VT', 'state_VA', 'state_WA', 'state_WV', 'state_WI', 'state_WY', 'state_AL', 'state_AK', \n",
    "      'state_AZ', 'state_AR', 'state_CA', 'state_CO', 'state_CT', 'state_DE', 'state_FL', 'state_GA', 'state_HI', \n",
    "      'state_ID', 'state_IL', 'state_IN', 'state_IA', 'state_KS', 'state_KY', 'state_LA', 'state_ME', 'state_MD', \n",
    "      'state_MA', 'state_MI', 'state_MN', 'state_MS', 'state_MO']"
   ]
  },
  {
   "cell_type": "code",
   "execution_count": 4,
   "metadata": {
    "collapsed": true
   },
   "outputs": [],
   "source": [
    "def df_ols(df, y, x):\n",
    "    for var in [x, y]:\n",
    "        if not hasattr(var, '__iter__'):\n",
    "            var = [var]\n",
    "    return pd.ols(y=df[y], x=df[x])"
   ]
  },
  {
   "cell_type": "code",
   "execution_count": 5,
   "metadata": {
    "collapsed": true
   },
   "outputs": [],
   "source": [
    "def fix_issue_date(x):\n",
    "    try:\n",
    "        return pd.Period(datetime.datetime.strptime(str(x), '%b-%y'), 'M')\n",
    "    except: \n",
    "        return None"
   ]
  },
  {
   "cell_type": "code",
   "execution_count": 6,
   "metadata": {
    "collapsed": false
   },
   "outputs": [],
   "source": [
    "def create_relevant_subset(df, grades=['A','B','C','D','E','F','G'], edate='20130101'):\n",
    "    df['loan_status'] = df['loan_status'].str.replace('Does not meet the credit policy. Status:', '')\n",
    "    df = df.iloc[df['loan_status'].isin(['Fully Paid', 'Charged Off']).index, :].reset_index(drop=True)\n",
    "    df = df[df['term'] == ' 36 months']\n",
    "    df = df[df['grade'].isin(grades)]\n",
    "    df['issue_d'] = df['issue_d'].map(fix_issue_date).reindex()\n",
    "    df = df[df['issue_d'] < pd.Period(edate, freq='M')]\n",
    "    return df"
   ]
  },
  {
   "cell_type": "code",
   "execution_count": 166,
   "metadata": {
    "collapsed": true
   },
   "outputs": [],
   "source": [
    "def create_factors(short_df):\n",
    "    # create y variables\n",
    "    short_df['defaulted'] = short_df['loan_status'].isin(['Charged Off']).astype(int)\n",
    "    \n",
    "    short_df['profit'] = short_df['total_pymnt'] / short_df['funded_amnt']\n",
    "    short_df['annualized_profit'] = short_df['profit'] ** (1.0/3.0)\n",
    "    short_df['annualized_ten_percent'] = short_df['annualized_profit']\n",
    "    \n",
    "    \n",
    "    # create x variables\n",
    "    short_df['verified'] = (~short_df['verification_status'].str.lower().str.contains('not')).astype(int)\n",
    "    \n",
    "    purpose_dummies = pd.get_dummies(short_df['purpose'])\n",
    "    purpose_dummies.columns = ['purpose_' + column for column in purpose_dummies.columns]\n",
    "    purposes = purpose_dummies.columns\n",
    "    for purpose in purposes:\n",
    "        purpose_dummies[purpose] = purpose_dummies[purpose].astype(float)\n",
    "    short_df = pd.concat([short_df, purpose_dummies], axis=1)\n",
    "    \n",
    "    short_df['own_home'] = short_df['home_ownership'].isin(['MORTGAGE', 'OWN'])\n",
    "    short_df['joint_account'] = short_df['application_type'].isin(['JOINT'])\n",
    "     \n",
    "    states_dummies = pd.get_dummies(short_df['addr_state'])\n",
    "    states_dummies.columns = ['state_' + column for column in states_dummies.columns]\n",
    "    for state in states:\n",
    "        if state not in states_dummies.columns:\n",
    "            states_dummies[state] = 0\n",
    "    short_df = pd.concat([short_df, states_dummies], axis=1)\n",
    "    \n",
    "    \n",
    "    \n",
    "    latest = short_df['earliest_cr_line'].map(fix_issue_date).reindex()\n",
    "    short_df['credit_history'] = np.maximum((short_df['issue_d'] - latest), 1)\n",
    "    \n",
    "    import string\n",
    "    short_df['grade_int'] = short_df['grade'].apply(lambda x: string.lowercase.index(x.lower()))\n",
    "    \n",
    "    short_df['dti'] = short_df['dti'] / 100\n",
    "    \n",
    "    for column in ['int_rate', 'revol_util']:\n",
    "        short_df[column] = short_df[column].str.replace('%', '').astype(float) / 100\n",
    "        \n",
    "    short_df['emp_length'] = short_df['emp_length'].str.replace('n/a', '0').str.replace('<', '0').str.replace('+', '').str.split(' ').str[0]\n",
    "    \n",
    "    for column in ['id', 'member_id', 'loan_amnt', 'dti', 'mths_since_last_delinq', 'mths_since_last_record', 'revol_bal', \n",
    "               'revol_util', 'annual_inc', 'open_acc', 'total_acc', 'credit_history', 'emp_length', 'own_home',\n",
    "               'pub_rec', 'installment', 'mths_since_last_major_derog', 'joint_account']:\n",
    "        short_df[column] = short_df[column].astype(float)\n",
    "        \n",
    "    for column in ['loan_status']:\n",
    "        short_df[column] = short_df[column].astype(str)\n",
    "    return short_df, purposes"
   ]
  },
  {
   "cell_type": "code",
   "execution_count": 189,
   "metadata": {
    "collapsed": false
   },
   "outputs": [],
   "source": [
    "def remove_nans(short_df):\n",
    "    # fill nans\n",
    "    short_df['inq_last_6mths'] = short_df['inq_last_6mths'].fillna(0)\n",
    "    short_df['delinq_2yrs'] = short_df['delinq_2yrs'].fillna(0)\n",
    "    \n",
    "    short_df['pub_rec'] = short_df['pub_rec'].fillna(0)\n",
    "    short_df['total_acc'] = short_df['total_acc'].fillna(0)\n",
    "    short_df['annual_inc'] = short_df['annual_inc'].fillna(short_df['annual_inc'].mean())\n",
    "    short_df['open_acc'] = short_df['open_acc'].fillna(short_df['open_acc'].mean())\n",
    "    short_df['revol_util'] = short_df['revol_util'].fillna(short_df['revol_util'].median())\n",
    "    \n",
    "    # pretty sure purposes isn't defined until later. so a fresh nb is screwed.\n",
    "    for purpose in purposes:\n",
    "        if purpose not in short_df.columns:\n",
    "            short_df[purpose] = 0\n",
    "    \n",
    "    for column in ['mths_since_last_delinq', 'mths_since_last_record',]:#'mths_since_last_major_derog']:\n",
    "        short_df[column] = short_df[column].fillna(short_df[column].max())\n",
    "    \n",
    "    return short_df"
   ]
  },
  {
   "cell_type": "code",
   "execution_count": 9,
   "metadata": {
    "collapsed": true
   },
   "outputs": [],
   "source": [
    "def plot_regression(training_df, y, x, m_t=-10.0, grades=['A', 'B', 'C', 'D', 'E', 'F', 'G'], xlim=[-0.1, 1.1]):\n",
    "    df = training_df.pipe(create_relevant_subset, grades=grades).pipe(create_factors)[0].pipe(remove_nans) \n",
    "    \n",
    "    model_vs_actual = pd.concat([df.pipe(df_ols, y=y, x=x).y_predict, df[y]], axis=1, keys=['model', 'actual'])\n",
    "    \n",
    "    model_vs_actual[model_vs_actual['model'] > m_t].plot.scatter('actual', 'model', sharex=False, title='{} OOS: model vs actual'.format(y))\n",
    "    plt.show()\n",
    "    \n",
    "    model_vs_actual[model_vs_actual['model'] > m_t].plot.hexbin('actual', 'model', sharex=False, title='{} OOS: model vs actual'.format(y))\n",
    "    plt.xlim(xlim)\n",
    "    plt.show()\n",
    "    \n",
    "    model_vs_actual['actual'].plot.hist(bins=100, title='{}: actual'.format(y))\n",
    "    plt.xlim(xlim)\n",
    "    plt.show()\n",
    "    \n",
    "    return model_vs_actual"
   ]
  },
  {
   "cell_type": "code",
   "execution_count": 10,
   "metadata": {
    "collapsed": false
   },
   "outputs": [],
   "source": [
    "def plot_test_training(testing_df, training_df, y, x, m_t, grades=['A', 'B', 'C', 'D', 'E', 'F', 'G'], xlim=[-0.1, 1.1]):\n",
    "    reg_test_df = testing_df.pipe(create_relevant_subset, grades=grades).pipe(create_factors)[0].pipe(remove_nans) \n",
    "    reg_train_betas = training_df.pipe(create_relevant_subset, grades=grades).pipe(create_factors)[0].pipe(remove_nans).pipe(df_ols, y=y, x=xs).beta\n",
    "    test_betas = pd.concat([reg_test_df[column] * reg_train_betas[column] for column in reg_train_betas.index if column in reg_test_df], axis=1)\n",
    "    model_vs_actual = pd.concat([test_betas.sum(axis=1) + reg_train_betas['intercept'], reg_test_df[y]], axis=1, keys=['model', 'actual'])\n",
    "    model_vs_actual[model_vs_actual['model'] > m_t].plot.scatter('actual', 'model', sharex=False, title='{}: model vs actual'.format(y))\n",
    "    plt.show()\n",
    "    \n",
    "    model_vs_actual[model_vs_actual['model'] > m_t].plot.hexbin('actual', 'model', sharex=False, title='{}: model vs actual'.format(y))\n",
    "    plt.xlim(xlim)\n",
    "    plt.show()\n",
    "    \n",
    "    model_vs_actual['actual'].plot.hist(bins=100, title='{} actual'.format(y))\n",
    "    plt.xlim(xlim)\n",
    "    plt.show()\n",
    "    \n",
    "    return model_vs_actual"
   ]
  },
  {
   "cell_type": "code",
   "execution_count": 11,
   "metadata": {
    "collapsed": true
   },
   "outputs": [],
   "source": [
    "data_folder = '../data/'"
   ]
  },
  {
   "cell_type": "code",
   "execution_count": 30,
   "metadata": {
    "collapsed": false
   },
   "outputs": [],
   "source": [
    "training = pd.read_csv('{}{}'.format(data_folder, 'LoanStats3a.csv'))\n",
    "testing = pd.read_csv('{}{}'.format(data_folder, 'LoanStats3b.csv'))"
   ]
  },
  {
   "cell_type": "code",
   "execution_count": 161,
   "metadata": {
    "collapsed": false
   },
   "outputs": [
    {
     "data": {
      "text/plain": [
       "count    31534.000000\n",
       "mean         1.015815\n",
       "std          0.108587\n",
       "min          0.000000\n",
       "25%          1.027587\n",
       "50%          1.043288\n",
       "75%          1.060458\n",
       "max          1.164457\n",
       "Name: annualized_profit, dtype: float64"
      ]
     },
     "execution_count": 161,
     "metadata": {},
     "output_type": "execute_result"
    }
   ],
   "source": [
    "training.pipe(create_relevant_subset).pipe(create_factors)[0]['annualized_profit'].describe()"
   ]
  },
  {
   "cell_type": "code",
   "execution_count": 33,
   "metadata": {
    "collapsed": false
   },
   "outputs": [
    {
     "data": {
      "text/plain": [
       "count    43470.000000\n",
       "mean         1.021463\n",
       "std          0.103498\n",
       "min          0.000000\n",
       "25%          1.030395\n",
       "50%          1.048352\n",
       "75%          1.067029\n",
       "max          1.126129\n",
       "Name: annualized_profit, dtype: float64"
      ]
     },
     "execution_count": 33,
     "metadata": {},
     "output_type": "execute_result"
    }
   ],
   "source": [
    "testing.pipe(create_relevant_subset).pipe(create_factors)[0]['annualized_profit'].describe()"
   ]
  },
  {
   "cell_type": "code",
   "execution_count": 34,
   "metadata": {
    "collapsed": true
   },
   "outputs": [],
   "source": [
    "# choose which grades to regress\n",
    "grades = [\n",
    "    #'A',\n",
    "    #'B',\n",
    "    #'C',\n",
    "    #'D', \n",
    "    'E', \n",
    "    #'F', \n",
    "    #'G'\n",
    "]"
   ]
  },
  {
   "cell_type": "code",
   "execution_count": 167,
   "metadata": {
    "collapsed": false
   },
   "outputs": [],
   "source": [
    "# get the purposes and states to use as x_variables\n",
    "_, purposes = training.pipe(create_relevant_subset, grades=grades).pipe(create_factors)"
   ]
  },
  {
   "cell_type": "code",
   "execution_count": 168,
   "metadata": {
    "collapsed": true
   },
   "outputs": [],
   "source": [
    "# pick the x and y variables to use in the regression\n",
    "xs = [\n",
    "    'dti', \n",
    "    'int_rate',\n",
    "    'loan_amnt', \n",
    "    'mths_since_last_delinq', \n",
    "    'mths_since_last_record',\n",
    "    # 'mths_since_last_major_derog',\n",
    "    'revol_bal',\n",
    "    'revol_util',\n",
    "    'annual_inc',\n",
    "    'open_acc',\n",
    "    'total_acc',\n",
    "    'pub_rec',\n",
    "    'grade_int',\n",
    "    'credit_history',\n",
    "    'emp_length',\n",
    "    'verified',\n",
    "    'own_home',\n",
    "    'installment',\n",
    "    'delinq_2yrs',\n",
    "    'inq_last_6mths',\n",
    "    'joint_account'\n",
    "] + purposes.tolist() + states\n",
    "\n",
    "y = [\n",
    "    # 'defaulted',\n",
    "    # 'profit',\n",
    "    'annualized_profit'\n",
    "]"
   ]
  },
  {
   "cell_type": "code",
   "execution_count": 37,
   "metadata": {
    "collapsed": false,
    "scrolled": false
   },
   "outputs": [
    {
     "data": {
      "image/png": "[encoded data removed]",
      "text/plain": [
       "<matplotlib.figure.Figure at 0x13c6cfe10>"
      ]
     },
     "metadata": {},
     "output_type": "display_data"
    },
    {
     "data": {
      "image/png": "[encoded data removed]",
      "text/plain": [
       "<matplotlib.figure.Figure at 0x12f7f3fd0>"
      ]
     },
     "metadata": {},
     "output_type": "display_data"
    },
    {
     "data": {
      "image/png": "[encoded data removed]",
      "text/plain": [
       "<matplotlib.figure.Figure at 0x115b52810>"
      ]
     },
     "metadata": {},
     "output_type": "display_data"
    }
   ],
   "source": [
    "# plot the training model\n",
    "model_vs_actual_train = plot_regression(training, y[0], xs, m_t=0, grades=grades, xlim=[0.9, 1.2])"
   ]
  },
  {
   "cell_type": "code",
   "execution_count": 38,
   "metadata": {
    "collapsed": false,
    "scrolled": false
   },
   "outputs": [
    {
     "data": {
      "image/png": "[encoded data removed]",
      "text/plain": [
       "<matplotlib.figure.Figure at 0x12d49abd0>"
      ]
     },
     "metadata": {},
     "output_type": "display_data"
    },
    {
     "data": {
      "image/png": "[encoded data removed]",
      "text/plain": [
       "<matplotlib.figure.Figure at 0x11d89e090>"
      ]
     },
     "metadata": {},
     "output_type": "display_data"
    },
    {
     "data": {
      "image/png": "[encoded data removed]",
      "text/plain": [
       "<matplotlib.figure.Figure at 0x11d8e9690>"
      ]
     },
     "metadata": {},
     "output_type": "display_data"
    }
   ],
   "source": [
    "# apply the training model to the testing data\n",
    "model_vs_actual_test = plot_test_training(testing, training, y[0], xs, m_t=0.0, xlim=[1.0, 1.2], grades=grades)"
   ]
  },
  {
   "cell_type": "code",
   "execution_count": 39,
   "metadata": {
    "collapsed": false
   },
   "outputs": [
    {
     "data": {
      "text/html": [
       "<div>\n",
       "<table border=\"1\" class=\"dataframe\">\n",
       "  <thead>\n",
       "    <tr style=\"text-align: right;\">\n",
       "      <th></th>\n",
       "      <th>model</th>\n",
       "      <th>actual</th>\n",
       "    </tr>\n",
       "  </thead>\n",
       "  <tbody>\n",
       "    <tr>\n",
       "      <th>7</th>\n",
       "      <td>1.057765</td>\n",
       "      <td>1.094940</td>\n",
       "    </tr>\n",
       "    <tr>\n",
       "      <th>140</th>\n",
       "      <td>1.024579</td>\n",
       "      <td>1.089556</td>\n",
       "    </tr>\n",
       "    <tr>\n",
       "      <th>250</th>\n",
       "      <td>1.046679</td>\n",
       "      <td>1.027615</td>\n",
       "    </tr>\n",
       "    <tr>\n",
       "      <th>412</th>\n",
       "      <td>0.993728</td>\n",
       "      <td>0.720350</td>\n",
       "    </tr>\n",
       "    <tr>\n",
       "      <th>446</th>\n",
       "      <td>1.063848</td>\n",
       "      <td>1.052854</td>\n",
       "    </tr>\n",
       "  </tbody>\n",
       "</table>\n",
       "</div>"
      ],
      "text/plain": [
       "        model    actual\n",
       "7    1.057765  1.094940\n",
       "140  1.024579  1.089556\n",
       "250  1.046679  1.027615\n",
       "412  0.993728  0.720350\n",
       "446  1.063848  1.052854"
      ]
     },
     "execution_count": 39,
     "metadata": {},
     "output_type": "execute_result"
    }
   ],
   "source": [
    "model_vs_actual_train.head(5)"
   ]
  },
  {
   "cell_type": "code",
   "execution_count": 40,
   "metadata": {
    "collapsed": false
   },
   "outputs": [
    {
     "data": {
      "text/html": [
       "<div>\n",
       "<table border=\"1\" class=\"dataframe\">\n",
       "  <thead>\n",
       "    <tr style=\"text-align: right;\">\n",
       "      <th></th>\n",
       "      <th>model</th>\n",
       "      <th>actual</th>\n",
       "    </tr>\n",
       "  </thead>\n",
       "  <tbody>\n",
       "    <tr>\n",
       "      <th>134245</th>\n",
       "      <td>0.926986</td>\n",
       "      <td>1.111850</td>\n",
       "    </tr>\n",
       "    <tr>\n",
       "      <th>134505</th>\n",
       "      <td>1.087525</td>\n",
       "      <td>0.573249</td>\n",
       "    </tr>\n",
       "    <tr>\n",
       "      <th>134526</th>\n",
       "      <td>1.017885</td>\n",
       "      <td>1.094185</td>\n",
       "    </tr>\n",
       "    <tr>\n",
       "      <th>134533</th>\n",
       "      <td>1.021671</td>\n",
       "      <td>1.057976</td>\n",
       "    </tr>\n",
       "    <tr>\n",
       "      <th>134569</th>\n",
       "      <td>1.013955</td>\n",
       "      <td>1.106926</td>\n",
       "    </tr>\n",
       "  </tbody>\n",
       "</table>\n",
       "</div>"
      ],
      "text/plain": [
       "           model    actual\n",
       "134245  0.926986  1.111850\n",
       "134505  1.087525  0.573249\n",
       "134526  1.017885  1.094185\n",
       "134533  1.021671  1.057976\n",
       "134569  1.013955  1.106926"
      ]
     },
     "execution_count": 40,
     "metadata": {},
     "output_type": "execute_result"
    }
   ],
   "source": [
    "model_vs_actual_test.head(5)"
   ]
  },
  {
   "cell_type": "code",
   "execution_count": 198,
   "metadata": {
    "collapsed": false
   },
   "outputs": [],
   "source": [
    "clust_input = training.pipe(create_relevant_subset, grades=grades).pipe(create_factors)[0].pipe(remove_nans).loc[:,xs+y]\n",
    "est = sklearn.cluster.KMeans(n_clusters=2)\n",
    "clust_preds = est.fit(clust_input)"
   ]
  },
  {
   "cell_type": "code",
   "execution_count": 202,
   "metadata": {
    "collapsed": false
   },
   "outputs": [],
   "source": [
    "clust_train = pd.get_dummies(training.pipe(create_relevant_subset, grades=grades)['loan_status'])\n",
    "\n",
    "clust_train['predictions'] = clust_preds.labels_"
   ]
  },
  {
   "cell_type": "code",
   "execution_count": 203,
   "metadata": {
    "collapsed": false
   },
   "outputs": [
    {
     "data": {
      "text/html": [
       "<div>\n",
       "<table border=\"1\" class=\"dataframe\">\n",
       "  <thead>\n",
       "    <tr style=\"text-align: right;\">\n",
       "      <th></th>\n",
       "      <th>Charged Off</th>\n",
       "      <th>Fully Paid</th>\n",
       "      <th>predictions</th>\n",
       "    </tr>\n",
       "  </thead>\n",
       "  <tbody>\n",
       "    <tr>\n",
       "      <th>597</th>\n",
       "      <td>1</td>\n",
       "      <td>0</td>\n",
       "      <td>1</td>\n",
       "    </tr>\n",
       "    <tr>\n",
       "      <th>1477</th>\n",
       "      <td>0</td>\n",
       "      <td>1</td>\n",
       "      <td>1</td>\n",
       "    </tr>\n",
       "    <tr>\n",
       "      <th>2306</th>\n",
       "      <td>0</td>\n",
       "      <td>1</td>\n",
       "      <td>1</td>\n",
       "    </tr>\n",
       "    <tr>\n",
       "      <th>2369</th>\n",
       "      <td>0</td>\n",
       "      <td>1</td>\n",
       "      <td>1</td>\n",
       "    </tr>\n",
       "    <tr>\n",
       "      <th>3103</th>\n",
       "      <td>0</td>\n",
       "      <td>1</td>\n",
       "      <td>1</td>\n",
       "    </tr>\n",
       "    <tr>\n",
       "      <th>3890</th>\n",
       "      <td>1</td>\n",
       "      <td>0</td>\n",
       "      <td>1</td>\n",
       "    </tr>\n",
       "    <tr>\n",
       "      <th>4384</th>\n",
       "      <td>1</td>\n",
       "      <td>0</td>\n",
       "      <td>1</td>\n",
       "    </tr>\n",
       "    <tr>\n",
       "      <th>5179</th>\n",
       "      <td>0</td>\n",
       "      <td>1</td>\n",
       "      <td>1</td>\n",
       "    </tr>\n",
       "    <tr>\n",
       "      <th>5399</th>\n",
       "      <td>0</td>\n",
       "      <td>1</td>\n",
       "      <td>1</td>\n",
       "    </tr>\n",
       "    <tr>\n",
       "      <th>5598</th>\n",
       "      <td>0</td>\n",
       "      <td>1</td>\n",
       "      <td>1</td>\n",
       "    </tr>\n",
       "    <tr>\n",
       "      <th>5689</th>\n",
       "      <td>1</td>\n",
       "      <td>0</td>\n",
       "      <td>1</td>\n",
       "    </tr>\n",
       "    <tr>\n",
       "      <th>7481</th>\n",
       "      <td>0</td>\n",
       "      <td>1</td>\n",
       "      <td>1</td>\n",
       "    </tr>\n",
       "    <tr>\n",
       "      <th>7580</th>\n",
       "      <td>0</td>\n",
       "      <td>1</td>\n",
       "      <td>1</td>\n",
       "    </tr>\n",
       "    <tr>\n",
       "      <th>7638</th>\n",
       "      <td>0</td>\n",
       "      <td>1</td>\n",
       "      <td>1</td>\n",
       "    </tr>\n",
       "    <tr>\n",
       "      <th>8009</th>\n",
       "      <td>0</td>\n",
       "      <td>1</td>\n",
       "      <td>1</td>\n",
       "    </tr>\n",
       "    <tr>\n",
       "      <th>8448</th>\n",
       "      <td>0</td>\n",
       "      <td>1</td>\n",
       "      <td>1</td>\n",
       "    </tr>\n",
       "    <tr>\n",
       "      <th>9901</th>\n",
       "      <td>0</td>\n",
       "      <td>1</td>\n",
       "      <td>1</td>\n",
       "    </tr>\n",
       "    <tr>\n",
       "      <th>10330</th>\n",
       "      <td>0</td>\n",
       "      <td>1</td>\n",
       "      <td>1</td>\n",
       "    </tr>\n",
       "    <tr>\n",
       "      <th>11207</th>\n",
       "      <td>1</td>\n",
       "      <td>0</td>\n",
       "      <td>1</td>\n",
       "    </tr>\n",
       "    <tr>\n",
       "      <th>11240</th>\n",
       "      <td>0</td>\n",
       "      <td>1</td>\n",
       "      <td>1</td>\n",
       "    </tr>\n",
       "    <tr>\n",
       "      <th>11701</th>\n",
       "      <td>1</td>\n",
       "      <td>0</td>\n",
       "      <td>1</td>\n",
       "    </tr>\n",
       "    <tr>\n",
       "      <th>11770</th>\n",
       "      <td>1</td>\n",
       "      <td>0</td>\n",
       "      <td>1</td>\n",
       "    </tr>\n",
       "    <tr>\n",
       "      <th>12348</th>\n",
       "      <td>0</td>\n",
       "      <td>1</td>\n",
       "      <td>1</td>\n",
       "    </tr>\n",
       "    <tr>\n",
       "      <th>13179</th>\n",
       "      <td>0</td>\n",
       "      <td>1</td>\n",
       "      <td>1</td>\n",
       "    </tr>\n",
       "    <tr>\n",
       "      <th>15738</th>\n",
       "      <td>0</td>\n",
       "      <td>1</td>\n",
       "      <td>1</td>\n",
       "    </tr>\n",
       "    <tr>\n",
       "      <th>15914</th>\n",
       "      <td>0</td>\n",
       "      <td>1</td>\n",
       "      <td>1</td>\n",
       "    </tr>\n",
       "    <tr>\n",
       "      <th>16168</th>\n",
       "      <td>0</td>\n",
       "      <td>1</td>\n",
       "      <td>1</td>\n",
       "    </tr>\n",
       "    <tr>\n",
       "      <th>16988</th>\n",
       "      <td>0</td>\n",
       "      <td>1</td>\n",
       "      <td>1</td>\n",
       "    </tr>\n",
       "    <tr>\n",
       "      <th>17825</th>\n",
       "      <td>0</td>\n",
       "      <td>1</td>\n",
       "      <td>1</td>\n",
       "    </tr>\n",
       "    <tr>\n",
       "      <th>18476</th>\n",
       "      <td>0</td>\n",
       "      <td>1</td>\n",
       "      <td>1</td>\n",
       "    </tr>\n",
       "    <tr>\n",
       "      <th>...</th>\n",
       "      <td>...</td>\n",
       "      <td>...</td>\n",
       "      <td>...</td>\n",
       "    </tr>\n",
       "    <tr>\n",
       "      <th>40767</th>\n",
       "      <td>0</td>\n",
       "      <td>1</td>\n",
       "      <td>1</td>\n",
       "    </tr>\n",
       "    <tr>\n",
       "      <th>40776</th>\n",
       "      <td>0</td>\n",
       "      <td>1</td>\n",
       "      <td>1</td>\n",
       "    </tr>\n",
       "    <tr>\n",
       "      <th>40807</th>\n",
       "      <td>0</td>\n",
       "      <td>1</td>\n",
       "      <td>1</td>\n",
       "    </tr>\n",
       "    <tr>\n",
       "      <th>40852</th>\n",
       "      <td>0</td>\n",
       "      <td>1</td>\n",
       "      <td>1</td>\n",
       "    </tr>\n",
       "    <tr>\n",
       "      <th>40874</th>\n",
       "      <td>0</td>\n",
       "      <td>1</td>\n",
       "      <td>1</td>\n",
       "    </tr>\n",
       "    <tr>\n",
       "      <th>40931</th>\n",
       "      <td>0</td>\n",
       "      <td>1</td>\n",
       "      <td>1</td>\n",
       "    </tr>\n",
       "    <tr>\n",
       "      <th>40951</th>\n",
       "      <td>0</td>\n",
       "      <td>1</td>\n",
       "      <td>1</td>\n",
       "    </tr>\n",
       "    <tr>\n",
       "      <th>40979</th>\n",
       "      <td>1</td>\n",
       "      <td>0</td>\n",
       "      <td>1</td>\n",
       "    </tr>\n",
       "    <tr>\n",
       "      <th>41004</th>\n",
       "      <td>1</td>\n",
       "      <td>0</td>\n",
       "      <td>1</td>\n",
       "    </tr>\n",
       "    <tr>\n",
       "      <th>41028</th>\n",
       "      <td>0</td>\n",
       "      <td>1</td>\n",
       "      <td>1</td>\n",
       "    </tr>\n",
       "    <tr>\n",
       "      <th>41059</th>\n",
       "      <td>1</td>\n",
       "      <td>0</td>\n",
       "      <td>1</td>\n",
       "    </tr>\n",
       "    <tr>\n",
       "      <th>41071</th>\n",
       "      <td>0</td>\n",
       "      <td>1</td>\n",
       "      <td>1</td>\n",
       "    </tr>\n",
       "    <tr>\n",
       "      <th>41238</th>\n",
       "      <td>0</td>\n",
       "      <td>1</td>\n",
       "      <td>1</td>\n",
       "    </tr>\n",
       "    <tr>\n",
       "      <th>41285</th>\n",
       "      <td>0</td>\n",
       "      <td>1</td>\n",
       "      <td>1</td>\n",
       "    </tr>\n",
       "    <tr>\n",
       "      <th>41320</th>\n",
       "      <td>0</td>\n",
       "      <td>1</td>\n",
       "      <td>1</td>\n",
       "    </tr>\n",
       "    <tr>\n",
       "      <th>41351</th>\n",
       "      <td>1</td>\n",
       "      <td>0</td>\n",
       "      <td>1</td>\n",
       "    </tr>\n",
       "    <tr>\n",
       "      <th>41401</th>\n",
       "      <td>0</td>\n",
       "      <td>1</td>\n",
       "      <td>1</td>\n",
       "    </tr>\n",
       "    <tr>\n",
       "      <th>41406</th>\n",
       "      <td>1</td>\n",
       "      <td>0</td>\n",
       "      <td>1</td>\n",
       "    </tr>\n",
       "    <tr>\n",
       "      <th>41460</th>\n",
       "      <td>0</td>\n",
       "      <td>1</td>\n",
       "      <td>1</td>\n",
       "    </tr>\n",
       "    <tr>\n",
       "      <th>41533</th>\n",
       "      <td>0</td>\n",
       "      <td>1</td>\n",
       "      <td>1</td>\n",
       "    </tr>\n",
       "    <tr>\n",
       "      <th>41669</th>\n",
       "      <td>0</td>\n",
       "      <td>1</td>\n",
       "      <td>1</td>\n",
       "    </tr>\n",
       "    <tr>\n",
       "      <th>41674</th>\n",
       "      <td>1</td>\n",
       "      <td>0</td>\n",
       "      <td>1</td>\n",
       "    </tr>\n",
       "    <tr>\n",
       "      <th>41770</th>\n",
       "      <td>0</td>\n",
       "      <td>1</td>\n",
       "      <td>1</td>\n",
       "    </tr>\n",
       "    <tr>\n",
       "      <th>41817</th>\n",
       "      <td>0</td>\n",
       "      <td>1</td>\n",
       "      <td>1</td>\n",
       "    </tr>\n",
       "    <tr>\n",
       "      <th>41958</th>\n",
       "      <td>0</td>\n",
       "      <td>1</td>\n",
       "      <td>1</td>\n",
       "    </tr>\n",
       "    <tr>\n",
       "      <th>42041</th>\n",
       "      <td>0</td>\n",
       "      <td>1</td>\n",
       "      <td>1</td>\n",
       "    </tr>\n",
       "    <tr>\n",
       "      <th>42229</th>\n",
       "      <td>1</td>\n",
       "      <td>0</td>\n",
       "      <td>1</td>\n",
       "    </tr>\n",
       "    <tr>\n",
       "      <th>42271</th>\n",
       "      <td>0</td>\n",
       "      <td>1</td>\n",
       "      <td>1</td>\n",
       "    </tr>\n",
       "    <tr>\n",
       "      <th>42317</th>\n",
       "      <td>0</td>\n",
       "      <td>1</td>\n",
       "      <td>1</td>\n",
       "    </tr>\n",
       "    <tr>\n",
       "      <th>42350</th>\n",
       "      <td>0</td>\n",
       "      <td>1</td>\n",
       "      <td>1</td>\n",
       "    </tr>\n",
       "  </tbody>\n",
       "</table>\n",
       "<p>134 rows × 3 columns</p>\n",
       "</div>"
      ],
      "text/plain": [
       "       Charged Off  Fully Paid  predictions\n",
       "597              1           0            1\n",
       "1477             0           1            1\n",
       "2306             0           1            1\n",
       "2369             0           1            1\n",
       "3103             0           1            1\n",
       "3890             1           0            1\n",
       "4384             1           0            1\n",
       "5179             0           1            1\n",
       "5399             0           1            1\n",
       "5598             0           1            1\n",
       "5689             1           0            1\n",
       "7481             0           1            1\n",
       "7580             0           1            1\n",
       "7638             0           1            1\n",
       "8009             0           1            1\n",
       "8448             0           1            1\n",
       "9901             0           1            1\n",
       "10330            0           1            1\n",
       "11207            1           0            1\n",
       "11240            0           1            1\n",
       "11701            1           0            1\n",
       "11770            1           0            1\n",
       "12348            0           1            1\n",
       "13179            0           1            1\n",
       "15738            0           1            1\n",
       "15914            0           1            1\n",
       "16168            0           1            1\n",
       "16988            0           1            1\n",
       "17825            0           1            1\n",
       "18476            0           1            1\n",
       "...            ...         ...          ...\n",
       "40767            0           1            1\n",
       "40776            0           1            1\n",
       "40807            0           1            1\n",
       "40852            0           1            1\n",
       "40874            0           1            1\n",
       "40931            0           1            1\n",
       "40951            0           1            1\n",
       "40979            1           0            1\n",
       "41004            1           0            1\n",
       "41028            0           1            1\n",
       "41059            1           0            1\n",
       "41071            0           1            1\n",
       "41238            0           1            1\n",
       "41285            0           1            1\n",
       "41320            0           1            1\n",
       "41351            1           0            1\n",
       "41401            0           1            1\n",
       "41406            1           0            1\n",
       "41460            0           1            1\n",
       "41533            0           1            1\n",
       "41669            0           1            1\n",
       "41674            1           0            1\n",
       "41770            0           1            1\n",
       "41817            0           1            1\n",
       "41958            0           1            1\n",
       "42041            0           1            1\n",
       "42229            1           0            1\n",
       "42271            0           1            1\n",
       "42317            0           1            1\n",
       "42350            0           1            1\n",
       "\n",
       "[134 rows x 3 columns]"
      ]
     },
     "execution_count": 203,
     "metadata": {},
     "output_type": "execute_result"
    }
   ],
   "source": [
    "# pd.get_dummies(training.pipe(create_relevant_subset, grades=grades)['loan_status'])['Charged Off']\n",
    "# clust_train[clust_train['Charged Off']==clust_train['predictions']][clust_train['Fully Paid']==1]\n",
    "clust_train[clust_train['predictions']==1]"
   ]
  },
  {
   "cell_type": "code",
   "execution_count": 204,
   "metadata": {
    "collapsed": false
   },
   "outputs": [],
   "source": [
    "a = testing.pipe(create_relevant_subset, grades=grades).pipe(create_factors)[0].pipe(remove_nans).loc[:,xs+y]\n",
    "\n",
    "clust_test = pd.get_dummies(testing.pipe(create_relevant_subset, grades=grades)['loan_status'])\n",
    "\n",
    "clust_test['predictions'] = est.predict(a)"
   ]
  },
  {
   "cell_type": "code",
   "execution_count": 217,
   "metadata": {
    "collapsed": false
   },
   "outputs": [
    {
     "data": {
      "text/html": [
       "<div>\n",
       "<table border=\"1\" class=\"dataframe\">\n",
       "  <thead>\n",
       "    <tr style=\"text-align: right;\">\n",
       "      <th></th>\n",
       "      <th>Charged Off</th>\n",
       "      <th>Current</th>\n",
       "      <th>Default</th>\n",
       "      <th>Fully Paid</th>\n",
       "      <th>Late (16-30 days)</th>\n",
       "      <th>Late (31-120 days)</th>\n",
       "      <th>predictions</th>\n",
       "    </tr>\n",
       "  </thead>\n",
       "  <tbody>\n",
       "    <tr>\n",
       "      <th>146812</th>\n",
       "      <td>0</td>\n",
       "      <td>0</td>\n",
       "      <td>1</td>\n",
       "      <td>0</td>\n",
       "      <td>0</td>\n",
       "      <td>0</td>\n",
       "      <td>0</td>\n",
       "    </tr>\n",
       "  </tbody>\n",
       "</table>\n",
       "</div>"
      ],
      "text/plain": [
       "        Charged Off  Current  Default  Fully Paid  Late (16-30 days)  \\\n",
       "146812            0        0        1           0                  0   \n",
       "\n",
       "        Late (31-120 days)  predictions  \n",
       "146812                   0            0  "
      ]
     },
     "execution_count": 217,
     "metadata": {},
     "output_type": "execute_result"
    }
   ],
   "source": [
    "clust_test[clust_test['predictions']==0][clust_test['Default']==1]"
   ]
  },
  {
   "cell_type": "code",
   "execution_count": 214,
   "metadata": {
    "collapsed": false
   },
   "outputs": [
    {
     "data": {
      "text/plain": [
       "617"
      ]
     },
     "execution_count": 214,
     "metadata": {},
     "output_type": "execute_result"
    }
   ],
   "source": [
    "len(clust_test[clust_test['Fully Paid']==1])"
   ]
  },
  {
   "cell_type": "code",
   "execution_count": 218,
   "metadata": {
    "collapsed": false
   },
   "outputs": [
    {
     "data": {
      "text/plain": [
       "Index([u'purpose_car', u'purpose_credit_card', u'purpose_debt_consolidation',\n",
       "       u'purpose_educational', u'purpose_home_improvement', u'purpose_house',\n",
       "       u'purpose_major_purchase', u'purpose_medical', u'purpose_moving',\n",
       "       u'purpose_other', u'purpose_renewable_energy',\n",
       "       u'purpose_small_business', u'purpose_vacation', u'purpose_wedding'],\n",
       "      dtype='object')"
      ]
     },
     "execution_count": 218,
     "metadata": {},
     "output_type": "execute_result"
    }
   ],
   "source": [
    "purposes"
   ]
  },
  {
   "cell_type": "code",
   "execution_count": null,
   "metadata": {
    "collapsed": true
   },
   "outputs": [],
   "source": []
  }
 ],
 "metadata": {
  "kernelspec": {
   "display_name": "Python 2",
   "language": "python",
   "name": "python2"
  },
  "language_info": {
   "codemirror_mode": {
    "name": "ipython",
    "version": 2
   },
   "file_extension": ".py",
   "mimetype": "text/x-python",
   "name": "python",
   "nbconvert_exporter": "python",
   "pygments_lexer": "ipython2",
   "version": "2.7.11"
  }
 },
 "nbformat": 4,
 "nbformat_minor": 0
}
