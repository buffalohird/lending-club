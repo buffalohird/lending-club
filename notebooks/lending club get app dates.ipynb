{
 "cells": [
  {
   "cell_type": "code",
   "execution_count": 40,
   "metadata": {
    "collapsed": true
   },
   "outputs": [],
   "source": [
    "import requests\n",
    "import pandas as pd\n",
    "import datetime\n",
    "import bs4"
   ]
  },
  {
   "cell_type": "code",
   "execution_count": 11,
   "metadata": {
    "collapsed": false
   },
   "outputs": [],
   "source": [
    "import os\n",
    "os.chdir('..')"
   ]
  },
  {
   "cell_type": "code",
   "execution_count": 12,
   "metadata": {
    "collapsed": true
   },
   "outputs": [],
   "source": [
    "from com.lc_helpers import (df_ols, fix_issue_date, create_relevant_subset, \n",
    "create_factors, remove_nans, get_db_folder, make_df_numeric)"
   ]
  },
  {
   "cell_type": "code",
   "execution_count": 55,
   "metadata": {
    "collapsed": false
   },
   "outputs": [
    {
     "name": "stderr",
     "output_type": "stream",
     "text": [
      "//anaconda/lib/python2.7/site-packages/IPython/core/interactiveshell.py:2902: DtypeWarning: Columns (47) have mixed types. Specify dtype option on import or set low_memory=False.\n",
      "  interactivity=interactivity, compiler=compiler, result=result)\n",
      "//anaconda/lib/python2.7/site-packages/IPython/core/interactiveshell.py:2902: DtypeWarning: Columns (0) have mixed types. Specify dtype option on import or set low_memory=False.\n",
      "  interactivity=interactivity, compiler=compiler, result=result)\n"
     ]
    }
   ],
   "source": [
    "db = get_db_folder()\n",
    "training = pd.read_csv(db['training']).pipe(make_df_numeric)\n",
    "testing = pd.read_csv(db['testing']).pipe(make_df_numeric)"
   ]
  },
  {
   "cell_type": "code",
   "execution_count": 56,
   "metadata": {
    "collapsed": true
   },
   "outputs": [],
   "source": [
    "input_db = pd.concat([training, testing])"
   ]
  },
  {
   "cell_type": "code",
   "execution_count": 57,
   "metadata": {
    "collapsed": true
   },
   "outputs": [],
   "source": [
    "loan_ids_full = input_db['id']"
   ]
  },
  {
   "cell_type": "code",
   "execution_count": 58,
   "metadata": {
    "collapsed": false
   },
   "outputs": [
    {
     "data": {
      "text/plain": [
       "0    1077501\n",
       "2    1077175\n",
       "3    1076863\n",
       "5    1075269\n",
       "7    1072053\n",
       "Name: id, dtype: float64"
      ]
     },
     "execution_count": 58,
     "metadata": {},
     "output_type": "execute_result"
    }
   ],
   "source": [
    "loan_ids_full.head(5)"
   ]
  },
  {
   "cell_type": "code",
   "execution_count": 63,
   "metadata": {
    "collapsed": false
   },
   "outputs": [],
   "source": [
    "test_url = 'https://www.lendingclub.com/browse/loanDetail.action?loan_id={id}'"
   ]
  },
  {
   "cell_type": "code",
   "execution_count": 69,
   "metadata": {
    "collapsed": false
   },
   "outputs": [
    {
     "name": "stdout",
     "output_type": "stream",
     "text": [
      "1077501\n",
      "1077175\n",
      "1076863\n",
      "1075269\n",
      "1072053\n"
     ]
    }
   ],
   "source": [
    "results_dict = {}\n",
    "loan_ids = loan_ids_full[0:5].astype(int)\n",
    "with requests.Session() as s:\n",
    "    login_url = 'https://www.lendingclub.com/account/login.action'\n",
    "    login_payload = {\n",
    "        'login_email': 'hird.bf@gmail.com', \n",
    "        'login_password': #'!!!!INSERT_PASSWORD!!!!'\n",
    "    }\n",
    "    p = s.post(login_url, data=payload)\n",
    "    \n",
    "    for loan_id in loan_ids:\n",
    "        print loan_id\n",
    "        r = s.get(test_url.format(id=loan_id))\n",
    "        soup = bs4.BeautifulSoup(r.text)\n",
    "        issue_date = soup.findAll('th', text='Note issued on')[0].findNextSibling().text\n",
    "        app_date = soup.findAll('th', text='Loan Submitted on')[0].findNextSibling().text\n",
    "\n",
    "        issue_date = datetime.datetime.strptime(issue_date.strip(), '%m/%d/%y %I:%M %p')\n",
    "        app_date = datetime.datetime.strptime(app_date.strip(), '%m/%d/%y %I:%M %p')\n",
    "        results_dict[loan_id] = {\n",
    "            'issue_date': issue_date,\n",
    "            'application_date': app_date\n",
    "        }"
   ]
  },
  {
   "cell_type": "code",
   "execution_count": 70,
   "metadata": {
    "collapsed": false
   },
   "outputs": [
    {
     "data": {
      "text/html": [
       "<div>\n",
       "<table border=\"1\" class=\"dataframe\">\n",
       "  <thead>\n",
       "    <tr style=\"text-align: right;\">\n",
       "      <th></th>\n",
       "      <th>application_date</th>\n",
       "      <th>issue_date</th>\n",
       "    </tr>\n",
       "  </thead>\n",
       "  <tbody>\n",
       "    <tr>\n",
       "      <th>1072053</th>\n",
       "      <td>2011-12-16 16:57:00</td>\n",
       "      <td>2011-12-20 07:24:00</td>\n",
       "    </tr>\n",
       "    <tr>\n",
       "      <th>1075269</th>\n",
       "      <td>2011-12-20 09:30:00</td>\n",
       "      <td>2011-12-28 00:27:00</td>\n",
       "    </tr>\n",
       "    <tr>\n",
       "      <th>1076863</th>\n",
       "      <td>2011-12-21 12:18:00</td>\n",
       "      <td>2011-12-27 00:29:00</td>\n",
       "    </tr>\n",
       "    <tr>\n",
       "      <th>1077175</th>\n",
       "      <td>2011-12-21 15:11:00</td>\n",
       "      <td>2011-12-29 00:27:00</td>\n",
       "    </tr>\n",
       "    <tr>\n",
       "      <th>1077501</th>\n",
       "      <td>2011-12-22 09:59:00</td>\n",
       "      <td>2011-12-29 00:29:00</td>\n",
       "    </tr>\n",
       "  </tbody>\n",
       "</table>\n",
       "</div>"
      ],
      "text/plain": [
       "           application_date          issue_date\n",
       "1072053 2011-12-16 16:57:00 2011-12-20 07:24:00\n",
       "1075269 2011-12-20 09:30:00 2011-12-28 00:27:00\n",
       "1076863 2011-12-21 12:18:00 2011-12-27 00:29:00\n",
       "1077175 2011-12-21 15:11:00 2011-12-29 00:27:00\n",
       "1077501 2011-12-22 09:59:00 2011-12-29 00:29:00"
      ]
     },
     "execution_count": 70,
     "metadata": {},
     "output_type": "execute_result"
    }
   ],
   "source": [
    "pd.DataFrame(results_dict).T"
   ]
  },
  {
   "cell_type": "code",
   "execution_count": null,
   "metadata": {
    "collapsed": true
   },
   "outputs": [],
   "source": []
  }
 ],
 "metadata": {
  "kernelspec": {
   "display_name": "Python 2",
   "language": "python",
   "name": "python2"
  },
  "language_info": {
   "codemirror_mode": {
    "name": "ipython",
    "version": 2
   },
   "file_extension": ".py",
   "mimetype": "text/x-python",
   "name": "python",
   "nbconvert_exporter": "python",
   "pygments_lexer": "ipython2",
   "version": "2.7.11"
  }
 },
 "nbformat": 4,
 "nbformat_minor": 0
}
